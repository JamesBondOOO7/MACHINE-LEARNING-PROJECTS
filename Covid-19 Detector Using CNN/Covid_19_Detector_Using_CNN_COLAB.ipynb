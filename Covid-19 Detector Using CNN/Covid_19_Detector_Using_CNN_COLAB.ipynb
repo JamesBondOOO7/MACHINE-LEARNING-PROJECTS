{
  "nbformat": 4,
  "nbformat_minor": 0,
  "metadata": {
    "colab": {
      "name": "Covid-19 Detector Using CNN.ipynb",
      "provenance": []
    },
    "kernelspec": {
      "name": "python3",
      "display_name": "Python 3"
    },
    "accelerator": "GPU"
  },
  "cells": [
    {
      "cell_type": "markdown",
      "metadata": {
        "id": "1WSYzijyCMho"
      },
      "source": [
        "## Importing Dataset"
      ]
    },
    {
      "cell_type": "code",
      "metadata": {
        "id": "HPgInI95CAlp",
        "outputId": "ec9cd527-6523-4780-e74e-b2ee6f58b05b",
        "colab": {
          "base_uri": "https://localhost:8080/",
          "height": 562
        }
      },
      "source": [
        "!wget https://cb.lk//covid_19"
      ],
      "execution_count": 17,
      "outputs": [
        {
          "output_type": "stream",
          "text": [
            "--2020-10-23 20:40:32--  https://cb.lk//covid_19\n",
            "Resolving cb.lk (cb.lk)... 159.89.170.74\n",
            "Connecting to cb.lk (cb.lk)|159.89.170.74|:443... connected.\n",
            "HTTP request sent, awaiting response... 302 Found\n",
            "Location: https://www.dropbox.com/s/7rjw6oet4za01op/CovidDataset-20200427T133042Z-001.zip?dl=0 [following]\n",
            "--2020-10-23 20:40:33--  https://www.dropbox.com/s/7rjw6oet4za01op/CovidDataset-20200427T133042Z-001.zip?dl=0\n",
            "Resolving www.dropbox.com (www.dropbox.com)... 162.125.6.1, 2620:100:601c:1::a27d:601\n",
            "Connecting to www.dropbox.com (www.dropbox.com)|162.125.6.1|:443... connected.\n",
            "HTTP request sent, awaiting response... 301 Moved Permanently\n",
            "Location: /s/raw/7rjw6oet4za01op/CovidDataset-20200427T133042Z-001.zip [following]\n",
            "--2020-10-23 20:40:33--  https://www.dropbox.com/s/raw/7rjw6oet4za01op/CovidDataset-20200427T133042Z-001.zip\n",
            "Reusing existing connection to www.dropbox.com:443.\n",
            "HTTP request sent, awaiting response... 302 Found\n",
            "Location: https://uce8baa49c4465bc026c829e58b5.dl.dropboxusercontent.com/cd/0/inline/BB2DqUOCvU9ovTKVnZA9dJDp8wZf_k7VtRTLbKv7XwbCS8R6PVsdoFazFVPRAp86vOU_KjHnibN4ukpyXQjB_SPX9yEq_iQeeX8EAv2nOIWWNcQtQVfWNEk6Ibam9t9yOiQ/file# [following]\n",
            "--2020-10-23 20:40:34--  https://uce8baa49c4465bc026c829e58b5.dl.dropboxusercontent.com/cd/0/inline/BB2DqUOCvU9ovTKVnZA9dJDp8wZf_k7VtRTLbKv7XwbCS8R6PVsdoFazFVPRAp86vOU_KjHnibN4ukpyXQjB_SPX9yEq_iQeeX8EAv2nOIWWNcQtQVfWNEk6Ibam9t9yOiQ/file\n",
            "Resolving uce8baa49c4465bc026c829e58b5.dl.dropboxusercontent.com (uce8baa49c4465bc026c829e58b5.dl.dropboxusercontent.com)... 162.125.6.15, 2620:100:601c:15::a27d:60f\n",
            "Connecting to uce8baa49c4465bc026c829e58b5.dl.dropboxusercontent.com (uce8baa49c4465bc026c829e58b5.dl.dropboxusercontent.com)|162.125.6.15|:443... connected.\n",
            "HTTP request sent, awaiting response... 302 Found\n",
            "Location: /cd/0/inline2/BB2MZzgyFDYDLQv2HV71r1y5u4Bl7udiuY53Ab3pNtLuFD-BkaUXhV9gvTs1wNCBHM5C_MG8HJq8wgukKj34MCM6aLeYC-X2firMpXCVESHhxMndWwoumZKzPFDV__q9g2xAXpPqwWriHRjQhwqSNmPFqj6y-Y8RUVcwjX73NiQ2rH8sHIWfR5SDNkMoUsvVchQO7w8fSAYysZsyaHwxHrvY5kmoz-l9xCXaVjVBOzbXggCXzMTbwfq-OjMlfV8SX-mzbhGjMVdj4gUmJX-L2W61aRq1R-NpBX0mskgfoa4WplZmug44qHfJRW1rDJPvDz18tKrMQp_Ln7FqPnytntXIFgAFWZjBDdStDEPvkQHekA/file [following]\n",
            "--2020-10-23 20:40:34--  https://uce8baa49c4465bc026c829e58b5.dl.dropboxusercontent.com/cd/0/inline2/BB2MZzgyFDYDLQv2HV71r1y5u4Bl7udiuY53Ab3pNtLuFD-BkaUXhV9gvTs1wNCBHM5C_MG8HJq8wgukKj34MCM6aLeYC-X2firMpXCVESHhxMndWwoumZKzPFDV__q9g2xAXpPqwWriHRjQhwqSNmPFqj6y-Y8RUVcwjX73NiQ2rH8sHIWfR5SDNkMoUsvVchQO7w8fSAYysZsyaHwxHrvY5kmoz-l9xCXaVjVBOzbXggCXzMTbwfq-OjMlfV8SX-mzbhGjMVdj4gUmJX-L2W61aRq1R-NpBX0mskgfoa4WplZmug44qHfJRW1rDJPvDz18tKrMQp_Ln7FqPnytntXIFgAFWZjBDdStDEPvkQHekA/file\n",
            "Reusing existing connection to uce8baa49c4465bc026c829e58b5.dl.dropboxusercontent.com:443.\n",
            "HTTP request sent, awaiting response... 200 OK\n",
            "Length: 140830621 (134M) [application/zip]\n",
            "Saving to: ‘covid_19.1’\n",
            "\n",
            "covid_19.1          100%[===================>] 134.31M  65.4MB/s    in 2.1s    \n",
            "\n",
            "2020-10-23 20:40:37 (65.4 MB/s) - ‘covid_19.1’ saved [140830621/140830621]\n",
            "\n"
          ],
          "name": "stdout"
        }
      ]
    },
    {
      "cell_type": "code",
      "metadata": {
        "id": "i_WX8rmpCTGx",
        "outputId": "f3928593-3015-4e47-ca53-24bd24b7d083",
        "colab": {
          "base_uri": "https://localhost:8080/",
          "height": 73
        }
      },
      "source": [
        "## Unzip the data\n",
        "!unzip covid_19"
      ],
      "execution_count": 18,
      "outputs": [
        {
          "output_type": "stream",
          "text": [
            "Archive:  covid_19\n",
            "replace CovidDataset/Val/Covid/88de9d8c39e946abd495b37cd07d89e5-6531-0.jpg? [y]es, [n]o, [A]ll, [N]one, [r]ename: "
          ],
          "name": "stdout"
        }
      ]
    },
    {
      "cell_type": "code",
      "metadata": {
        "id": "JnUxlG1iCavM"
      },
      "source": [
        "train_path = \"CovidDataset/Train\"\n",
        "val_path = \"CovidDataset/Val\""
      ],
      "execution_count": 19,
      "outputs": []
    },
    {
      "cell_type": "code",
      "metadata": {
        "id": "rBJI3YtwC8Ea"
      },
      "source": [
        "import numpy as np\n",
        "import matplotlib.pyplot as plt\n",
        "import keras\n",
        "from keras.layers import *\n",
        "from keras.models import *\n",
        "from keras.preprocessing import image"
      ],
      "execution_count": 20,
      "outputs": []
    },
    {
      "cell_type": "markdown",
      "metadata": {
        "id": "GlU-ktAwCx1j"
      },
      "source": [
        "## CNN Model"
      ]
    },
    {
      "cell_type": "code",
      "metadata": {
        "id": "VI0NqzHXDRAH"
      },
      "source": [
        "model = Sequential()\n",
        "\n",
        "model.add(Conv2D(32, (3,3), activation='relu', input_shape=(224,224,3)))\n",
        "\n",
        "model.add(Conv2D(64,(3,3), activation='relu'))\n",
        "model.add(MaxPooling2D(pool_size=(2,2)))\n",
        "# model.add(Dropout(0.25))\n",
        "\n",
        "model.add(Conv2D(64,(3,3), activation='relu'))\n",
        "model.add(MaxPooling2D(pool_size=(2,2)))\n",
        "model.add(Dropout(0.25))\n",
        "\n",
        "model.add(Conv2D(128,(3,3), activation='relu'))\n",
        "model.add(MaxPooling2D(pool_size=(2,2)))\n",
        "model.add(Dropout(0.25))\n",
        "\n",
        "model.add(Flatten())\n",
        "\n",
        "model.add(Dense(64, activation='relu'))\n",
        "model.add(Dropout(0.5))\n",
        "model.add(Dense(1, activation='sigmoid'))\n"
      ],
      "execution_count": 39,
      "outputs": []
    },
    {
      "cell_type": "code",
      "metadata": {
        "id": "nxbOGFReF03l",
        "outputId": "3dcce88d-d695-48e6-fd72-15408652d97b",
        "colab": {
          "base_uri": "https://localhost:8080/",
          "height": 632
        }
      },
      "source": [
        "model.summary()"
      ],
      "execution_count": 40,
      "outputs": [
        {
          "output_type": "stream",
          "text": [
            "Model: \"sequential_2\"\n",
            "_________________________________________________________________\n",
            "Layer (type)                 Output Shape              Param #   \n",
            "=================================================================\n",
            "conv2d_8 (Conv2D)            (None, 222, 222, 32)      896       \n",
            "_________________________________________________________________\n",
            "conv2d_9 (Conv2D)            (None, 220, 220, 64)      18496     \n",
            "_________________________________________________________________\n",
            "max_pooling2d_6 (MaxPooling2 (None, 110, 110, 64)      0         \n",
            "_________________________________________________________________\n",
            "conv2d_10 (Conv2D)           (None, 108, 108, 64)      36928     \n",
            "_________________________________________________________________\n",
            "max_pooling2d_7 (MaxPooling2 (None, 54, 54, 64)        0         \n",
            "_________________________________________________________________\n",
            "dropout_8 (Dropout)          (None, 54, 54, 64)        0         \n",
            "_________________________________________________________________\n",
            "conv2d_11 (Conv2D)           (None, 52, 52, 128)       73856     \n",
            "_________________________________________________________________\n",
            "max_pooling2d_8 (MaxPooling2 (None, 26, 26, 128)       0         \n",
            "_________________________________________________________________\n",
            "dropout_9 (Dropout)          (None, 26, 26, 128)       0         \n",
            "_________________________________________________________________\n",
            "flatten_2 (Flatten)          (None, 86528)             0         \n",
            "_________________________________________________________________\n",
            "dense_4 (Dense)              (None, 64)                5537856   \n",
            "_________________________________________________________________\n",
            "dropout_10 (Dropout)         (None, 64)                0         \n",
            "_________________________________________________________________\n",
            "dense_5 (Dense)              (None, 1)                 65        \n",
            "=================================================================\n",
            "Total params: 5,668,097\n",
            "Trainable params: 5,668,097\n",
            "Non-trainable params: 0\n",
            "_________________________________________________________________\n"
          ],
          "name": "stdout"
        }
      ]
    },
    {
      "cell_type": "code",
      "metadata": {
        "id": "6nOFBoUIIXe7"
      },
      "source": [
        "## Compiling the model\n",
        "\n",
        "model.compile(optimizer='adam',\n",
        "              loss=keras.losses.binary_crossentropy,\n",
        "              metrics = ['accuracy'])\n"
      ],
      "execution_count": 41,
      "outputs": []
    },
    {
      "cell_type": "markdown",
      "metadata": {
        "id": "slSMDrUIJWDn"
      },
      "source": [
        "## Data Generator for Training and Validation"
      ]
    },
    {
      "cell_type": "code",
      "metadata": {
        "id": "OROI4bo1IoF7"
      },
      "source": [
        "train_data_generator = image.ImageDataGenerator(\n",
        "    rescale = 1.0/255,\n",
        "    shear_range = 0.2,\n",
        "    zoom_range = 0.2,\n",
        "    horizontal_flip = True,\n",
        ")\n",
        "\n",
        "val_data_generator = image.ImageDataGenerator(\n",
        "    rescale = 1.0/255\n",
        ")"
      ],
      "execution_count": 42,
      "outputs": []
    },
    {
      "cell_type": "code",
      "metadata": {
        "id": "KzRLfURSJ3nN",
        "outputId": "77a2e6be-ee3b-426e-92a3-d66689284438",
        "colab": {
          "base_uri": "https://localhost:8080/",
          "height": 53
        }
      },
      "source": [
        "train_gen = train_data_generator.flow_from_directory(\n",
        "    directory = \"CovidDataset/Train\",\n",
        "    target_size = (224, 224),\n",
        "    batch_size = 32,\n",
        "    class_mode = 'binary'\n",
        ")\n",
        "\n",
        "val_gen = val_data_generator.flow_from_directory(\n",
        "    directory = \"CovidDataset/Val\",\n",
        "    target_size = (224,224),\n",
        "    batch_size = 32,\n",
        "    class_mode = 'binary'\n",
        ")"
      ],
      "execution_count": 43,
      "outputs": [
        {
          "output_type": "stream",
          "text": [
            "Found 224 images belonging to 2 classes.\n",
            "Found 60 images belonging to 2 classes.\n"
          ],
          "name": "stdout"
        }
      ]
    },
    {
      "cell_type": "code",
      "metadata": {
        "id": "Hc8c5kwUKleW",
        "outputId": "8ee37ea1-1b4c-4bfa-95a7-a1db5fe1559b",
        "colab": {
          "base_uri": "https://localhost:8080/",
          "height": 760
        }
      },
      "source": [
        "hist = model.fit_generator(\n",
        "    generator = train_gen,\n",
        "    steps_per_epoch = 7,\n",
        "    epochs = 20,\n",
        "    validation_data = val_gen,\n",
        "    validation_steps = 2\n",
        ")"
      ],
      "execution_count": 44,
      "outputs": [
        {
          "output_type": "stream",
          "text": [
            "Epoch 1/20\n",
            "7/7 [==============================] - 8s 1s/step - loss: 1.0728 - accuracy: 0.5670 - val_loss: 0.6660 - val_accuracy: 0.5000\n",
            "Epoch 2/20\n",
            "7/7 [==============================] - 8s 1s/step - loss: 0.6474 - accuracy: 0.6071 - val_loss: 0.6141 - val_accuracy: 0.8667\n",
            "Epoch 3/20\n",
            "7/7 [==============================] - 8s 1s/step - loss: 0.4911 - accuracy: 0.8036 - val_loss: 0.3334 - val_accuracy: 0.9333\n",
            "Epoch 4/20\n",
            "7/7 [==============================] - 8s 1s/step - loss: 0.3369 - accuracy: 0.8527 - val_loss: 0.2585 - val_accuracy: 0.9500\n",
            "Epoch 5/20\n",
            "7/7 [==============================] - 8s 1s/step - loss: 0.2507 - accuracy: 0.9062 - val_loss: 0.1497 - val_accuracy: 0.9333\n",
            "Epoch 6/20\n",
            "7/7 [==============================] - 8s 1s/step - loss: 0.3041 - accuracy: 0.8884 - val_loss: 0.1493 - val_accuracy: 0.9667\n",
            "Epoch 7/20\n",
            "7/7 [==============================] - 8s 1s/step - loss: 0.1912 - accuracy: 0.9509 - val_loss: 0.1052 - val_accuracy: 0.9667\n",
            "Epoch 8/20\n",
            "7/7 [==============================] - 8s 1s/step - loss: 0.1265 - accuracy: 0.9643 - val_loss: 0.1078 - val_accuracy: 0.9500\n",
            "Epoch 9/20\n",
            "7/7 [==============================] - 8s 1s/step - loss: 0.1917 - accuracy: 0.9420 - val_loss: 0.3269 - val_accuracy: 0.8667\n",
            "Epoch 10/20\n",
            "7/7 [==============================] - 7s 1s/step - loss: 0.1630 - accuracy: 0.9509 - val_loss: 0.1025 - val_accuracy: 0.9833\n",
            "Epoch 11/20\n",
            "7/7 [==============================] - 8s 1s/step - loss: 0.2317 - accuracy: 0.8973 - val_loss: 0.1817 - val_accuracy: 0.9333\n",
            "Epoch 12/20\n",
            "7/7 [==============================] - 8s 1s/step - loss: 0.2067 - accuracy: 0.9286 - val_loss: 0.1619 - val_accuracy: 0.9667\n",
            "Epoch 13/20\n",
            "7/7 [==============================] - 8s 1s/step - loss: 0.2420 - accuracy: 0.8884 - val_loss: 0.1340 - val_accuracy: 0.9833\n",
            "Epoch 14/20\n",
            "7/7 [==============================] - 8s 1s/step - loss: 0.1542 - accuracy: 0.9643 - val_loss: 0.0791 - val_accuracy: 0.9667\n",
            "Epoch 15/20\n",
            "7/7 [==============================] - 8s 1s/step - loss: 0.1146 - accuracy: 0.9554 - val_loss: 0.0711 - val_accuracy: 0.9667\n",
            "Epoch 16/20\n",
            "7/7 [==============================] - 8s 1s/step - loss: 0.1125 - accuracy: 0.9688 - val_loss: 0.0677 - val_accuracy: 0.9667\n",
            "Epoch 17/20\n",
            "7/7 [==============================] - 8s 1s/step - loss: 0.0902 - accuracy: 0.9732 - val_loss: 0.0677 - val_accuracy: 0.9667\n",
            "Epoch 18/20\n",
            "7/7 [==============================] - 7s 1s/step - loss: 0.1156 - accuracy: 0.9643 - val_loss: 0.0437 - val_accuracy: 0.9833\n",
            "Epoch 19/20\n",
            "7/7 [==============================] - 8s 1s/step - loss: 0.0889 - accuracy: 0.9732 - val_loss: 0.0505 - val_accuracy: 0.9667\n",
            "Epoch 20/20\n",
            "7/7 [==============================] - 8s 1s/step - loss: 0.1649 - accuracy: 0.9509 - val_loss: 0.0703 - val_accuracy: 0.9667\n"
          ],
          "name": "stdout"
        }
      ]
    },
    {
      "cell_type": "code",
      "metadata": {
        "id": "nbLYZSq1UrkU"
      },
      "source": [
        "h = hist.history"
      ],
      "execution_count": 45,
      "outputs": []
    },
    {
      "cell_type": "code",
      "metadata": {
        "id": "zB8iPiZCL0ug",
        "outputId": "4d540fc4-99a5-4257-fd48-5a52069e3fb2",
        "colab": {
          "base_uri": "https://localhost:8080/",
          "height": 35
        }
      },
      "source": [
        "idx = np.argmax(h['val_accuracy'])\n",
        "print(idx)"
      ],
      "execution_count": 46,
      "outputs": [
        {
          "output_type": "stream",
          "text": [
            "9\n"
          ],
          "name": "stdout"
        }
      ]
    },
    {
      "cell_type": "code",
      "metadata": {
        "id": "MLirneiTUx8h",
        "outputId": "e5923072-0c6b-4173-e625-a208ba2e60be",
        "colab": {
          "base_uri": "https://localhost:8080/",
          "height": 53
        }
      },
      "source": [
        "print(h['val_accuracy'][idx])\n",
        "print(h['accuracy'][idx])"
      ],
      "execution_count": 47,
      "outputs": [
        {
          "output_type": "stream",
          "text": [
            "0.9833333492279053\n",
            "0.9508928656578064\n"
          ],
          "name": "stdout"
        }
      ]
    },
    {
      "cell_type": "code",
      "metadata": {
        "id": "ljMHpSZZVHKb",
        "outputId": "fbbd8890-05c5-4f23-aaf4-1086b553b8ee",
        "colab": {
          "base_uri": "https://localhost:8080/",
          "height": 362
        }
      },
      "source": [
        "## Loss\n",
        "plt.style.use('seaborn')\n",
        "plt.plot(h['loss'], c=\"red\", label='Training Loss')\n",
        "plt.plot(h['val_loss'], c=\"green\", label='Validation Loss')\n",
        "plt.title(\"Loss\")\n",
        "plt.legend()\n",
        "plt.show()"
      ],
      "execution_count": 48,
      "outputs": [
        {
          "output_type": "display_data",
          "data": {
            "image/png": "[encoded data removed]",
            "text/plain": [
              "<Figure size 576x396 with 1 Axes>"
            ]
          },
          "metadata": {
            "tags": []
          }
        }
      ]
    },
    {
      "cell_type": "code",
      "metadata": {
        "id": "LiCo59P4Vclm",
        "outputId": "010de62c-291a-48c4-c686-731cbba6f128",
        "colab": {
          "base_uri": "https://localhost:8080/",
          "height": 362
        }
      },
      "source": [
        "## Accuracy\n",
        "plt.plot(h['accuracy'], c=\"red\", label='Training Accuracy')\n",
        "plt.plot(h['val_accuracy'], c=\"green\", label='Validation Accuracy')\n",
        "plt.title(\"Accuracy\")\n",
        "plt.legend()\n",
        "plt.show()"
      ],
      "execution_count": 49,
      "outputs": [
        {
          "output_type": "display_data",
          "data": {
            "image/png": "[encoded data removed]",
            "text/plain": [
              "<Figure size 576x396 with 1 Axes>"
            ]
          },
          "metadata": {
            "tags": []
          }
        }
      ]
    },
    {
      "cell_type": "code",
      "metadata": {
        "id": "pHQODbSHVkbs"
      },
      "source": [
        ""
      ],
      "execution_count": null,
      "outputs": []
    }
  ]
}