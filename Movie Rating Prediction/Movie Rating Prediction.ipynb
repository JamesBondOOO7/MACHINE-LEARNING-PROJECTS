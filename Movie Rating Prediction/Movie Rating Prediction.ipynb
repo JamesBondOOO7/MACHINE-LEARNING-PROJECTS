{
  "nbformat": 4,
  "nbformat_minor": 0,
  "metadata": {
    "colab": {
      "name": "Copy of Movie Rating Prediction.ipynb",
      "provenance": [],
      "toc_visible": true
    },
    "kernelspec": {
      "name": "python3",
      "display_name": "Python 3"
    },
    "accelerator": "GPU"
  },
  "cells": [
    {
      "cell_type": "code",
      "metadata": {
        "id": "Spp-kek_XQCe"
      },
      "source": [
        "import numpy as np\n",
        "import pandas as pd\n",
        "import matplotlib.pyplot as plt"
      ],
      "execution_count": 1,
      "outputs": []
    },
    {
      "cell_type": "markdown",
      "metadata": {
        "id": "Lxl03Y7QXoXG"
      },
      "source": [
        "## Dataset"
      ]
    },
    {
      "cell_type": "code",
      "metadata": {
        "id": "Otg4MqIeXdKj",
        "outputId": "1ef37a7c-78f7-4885-8d40-0dd002cb42b7",
        "colab": {
          "base_uri": "https://localhost:8080/"
        }
      },
      "source": [
        "!wget https://www.dropbox.com/sh/xh8rdvrvkak3diz/AAD2vtlsi4-BrwBnSAyk__F5a?dl=1"
      ],
      "execution_count": 2,
      "outputs": [
        {
          "output_type": "stream",
          "text": [
            "--2020-11-07 08:14:19--  https://www.dropbox.com/sh/xh8rdvrvkak3diz/AAD2vtlsi4-BrwBnSAyk__F5a?dl=1\n",
            "Resolving www.dropbox.com (www.dropbox.com)... 162.125.1.1, 2620:100:6016:1::a27d:101\n",
            "Connecting to www.dropbox.com (www.dropbox.com)|162.125.1.1|:443... connected.\n",
            "HTTP request sent, awaiting response... 301 Moved Permanently\n",
            "Location: /sh/dl/xh8rdvrvkak3diz/AAD2vtlsi4-BrwBnSAyk__F5a [following]\n",
            "--2020-11-07 08:14:19--  https://www.dropbox.com/sh/dl/xh8rdvrvkak3diz/AAD2vtlsi4-BrwBnSAyk__F5a\n",
            "Reusing existing connection to www.dropbox.com:443.\n",
            "HTTP request sent, awaiting response... 302 Found\n",
            "Location: https://uc31ccf20f1f7135b4c436a629b0.dl.dropboxusercontent.com/zip_download_get/AmJiujDLdE2FhyU2FkITINWULupZMUzHfQaVvdrpT3tV-H_VYrEE2OoTZdyo_skOOurkug6wwh-wB4BT11O_2ccvOewH8foFywykrzZELnI8PA?dl=1 [following]\n",
            "--2020-11-07 08:14:20--  https://uc31ccf20f1f7135b4c436a629b0.dl.dropboxusercontent.com/zip_download_get/AmJiujDLdE2FhyU2FkITINWULupZMUzHfQaVvdrpT3tV-H_VYrEE2OoTZdyo_skOOurkug6wwh-wB4BT11O_2ccvOewH8foFywykrzZELnI8PA?dl=1\n",
            "Resolving uc31ccf20f1f7135b4c436a629b0.dl.dropboxusercontent.com (uc31ccf20f1f7135b4c436a629b0.dl.dropboxusercontent.com)... 162.125.1.15, 2620:100:6016:15::a27d:10f\n",
            "Connecting to uc31ccf20f1f7135b4c436a629b0.dl.dropboxusercontent.com (uc31ccf20f1f7135b4c436a629b0.dl.dropboxusercontent.com)|162.125.1.15|:443... connected.\n",
            "HTTP request sent, awaiting response... 200 OK\n",
            "Length: 52658267 (50M) [application/zip]\n",
            "Saving to: ‘AAD2vtlsi4-BrwBnSAyk__F5a?dl=1’\n",
            "\n",
            "AAD2vtlsi4-BrwBnSAy 100%[===================>]  50.22M   168MB/s    in 0.3s    \n",
            "\n",
            "2020-11-07 08:14:20 (168 MB/s) - ‘AAD2vtlsi4-BrwBnSAyk__F5a?dl=1’ saved [52658267/52658267]\n",
            "\n"
          ],
          "name": "stdout"
        }
      ]
    },
    {
      "cell_type": "code",
      "metadata": {
        "id": "RoptCSNsXqcP",
        "outputId": "7799dfa6-8958-4261-ad0c-2d25afca693f",
        "colab": {
          "base_uri": "https://localhost:8080/"
        }
      },
      "source": [
        "!wget https://www.dropbox.com/sh/eyl9ci8xzg7ta54/AAB6GD8bT6B8nj9LhlI0g3mXa?dl=1"
      ],
      "execution_count": 3,
      "outputs": [
        {
          "output_type": "stream",
          "text": [
            "--2020-11-07 08:14:20--  https://www.dropbox.com/sh/eyl9ci8xzg7ta54/AAB6GD8bT6B8nj9LhlI0g3mXa?dl=1\n",
            "Resolving www.dropbox.com (www.dropbox.com)... 162.125.1.1, 2620:100:6016:1::a27d:101\n",
            "Connecting to www.dropbox.com (www.dropbox.com)|162.125.1.1|:443... connected.\n",
            "HTTP request sent, awaiting response... 301 Moved Permanently\n",
            "Location: /sh/dl/eyl9ci8xzg7ta54/AAB6GD8bT6B8nj9LhlI0g3mXa [following]\n",
            "--2020-11-07 08:14:21--  https://www.dropbox.com/sh/dl/eyl9ci8xzg7ta54/AAB6GD8bT6B8nj9LhlI0g3mXa\n",
            "Reusing existing connection to www.dropbox.com:443.\n",
            "HTTP request sent, awaiting response... 302 Found\n",
            "Location: https://uc31dbc99cb59b9f96ad24578746.dl.dropboxusercontent.com/zip_download_get/AmJGkgsihq8z8DUxRZCF2vM3tevWPzIPBBvDCc6Jt44pKrZrArENzKUAnZpMaL_ufWborUYmKjfYgvUsUo1E9_zrwJUDzpdduihzL_e5y_378A?dl=1 [following]\n",
            "--2020-11-07 08:14:21--  https://uc31dbc99cb59b9f96ad24578746.dl.dropboxusercontent.com/zip_download_get/AmJGkgsihq8z8DUxRZCF2vM3tevWPzIPBBvDCc6Jt44pKrZrArENzKUAnZpMaL_ufWborUYmKjfYgvUsUo1E9_zrwJUDzpdduihzL_e5y_378A?dl=1\n",
            "Resolving uc31dbc99cb59b9f96ad24578746.dl.dropboxusercontent.com (uc31dbc99cb59b9f96ad24578746.dl.dropboxusercontent.com)... 162.125.1.15, 2620:100:6016:15::a27d:10f\n",
            "Connecting to uc31dbc99cb59b9f96ad24578746.dl.dropboxusercontent.com (uc31dbc99cb59b9f96ad24578746.dl.dropboxusercontent.com)|162.125.1.15|:443... connected.\n",
            "HTTP request sent, awaiting response... 200 OK\n",
            "Length: 13430822 (13M) [application/zip]\n",
            "Saving to: ‘AAB6GD8bT6B8nj9LhlI0g3mXa?dl=1’\n",
            "\n",
            "AAB6GD8bT6B8nj9LhlI 100%[===================>]  12.81M  56.7MB/s    in 0.2s    \n",
            "\n",
            "2020-11-07 08:14:22 (56.7 MB/s) - ‘AAB6GD8bT6B8nj9LhlI0g3mXa?dl=1’ saved [13430822/13430822]\n",
            "\n"
          ],
          "name": "stdout"
        }
      ]
    },
    {
      "cell_type": "code",
      "metadata": {
        "id": "v93cciWDXtL7",
        "outputId": "39f247cc-4064-4454-ce7c-a2135212291e",
        "colab": {
          "base_uri": "https://localhost:8080/"
        }
      },
      "source": [
        "!unzip AAD2vtlsi4-BrwBnSAyk__F5a?dl=1\n",
        "!unzip AAB6GD8bT6B8nj9LhlI0g3mXa?dl=1"
      ],
      "execution_count": 4,
      "outputs": [
        {
          "output_type": "stream",
          "text": [
            "Archive:  AAD2vtlsi4-BrwBnSAyk__F5a?dl=1\n",
            "warning:  stripped absolute path spec from /\n",
            "mapname:  conversion of  failed\n",
            " extracting: Train.csv               \n",
            "\n",
            "1 archive had fatal errors.\n",
            "Archive:  AAB6GD8bT6B8nj9LhlI0g3mXa?dl=1\n",
            "warning:  stripped absolute path spec from /\n",
            "mapname:  conversion of  failed\n",
            " extracting: Test.csv                \n",
            " extracting: Sample_submission.csv   \n",
            "\n",
            "1 archive had fatal errors.\n"
          ],
          "name": "stdout"
        }
      ]
    },
    {
      "cell_type": "code",
      "metadata": {
        "id": "5V3KiLh-XvKR"
      },
      "source": [
        "dataset = pd.read_csv(\"./Train.csv\")"
      ],
      "execution_count": 5,
      "outputs": []
    },
    {
      "cell_type": "code",
      "metadata": {
        "id": "W1ns9nSYX0JR",
        "outputId": "d44f13c2-196f-4720-caac-7c582e5ff48a",
        "colab": {
          "base_uri": "https://localhost:8080/"
        }
      },
      "source": [
        "dataset.shape"
      ],
      "execution_count": 6,
      "outputs": [
        {
          "output_type": "execute_result",
          "data": {
            "text/plain": [
              "(40000, 2)"
            ]
          },
          "metadata": {
            "tags": []
          },
          "execution_count": 6
        }
      ]
    },
    {
      "cell_type": "code",
      "metadata": {
        "id": "3uJbdTVQX1AE",
        "outputId": "2f5da29e-c184-4334-d210-7ef3e3469e73",
        "colab": {
          "base_uri": "https://localhost:8080/",
          "height": 203
        }
      },
      "source": [
        "dataset.head()"
      ],
      "execution_count": 7,
      "outputs": [
        {
          "output_type": "execute_result",
          "data": {
            "text/html": [
              "<div>\n",
              "<style scoped>\n",
              "    .dataframe tbody tr th:only-of-type {\n",
              "        vertical-align: middle;\n",
              "    }\n",
              "\n",
              "    .dataframe tbody tr th {\n",
              "        vertical-align: top;\n",
              "    }\n",
              "\n",
              "    .dataframe thead th {\n",
              "        text-align: right;\n",
              "    }\n",
              "</style>\n",
              "<table border=\"1\" class=\"dataframe\">\n",
              "  <thead>\n",
              "    <tr style=\"text-align: right;\">\n",
              "      <th></th>\n",
              "      <th>review</th>\n",
              "      <th>label</th>\n",
              "    </tr>\n",
              "  </thead>\n",
              "  <tbody>\n",
              "    <tr>\n",
              "      <th>0</th>\n",
              "      <td>mature intelligent and highly charged melodram...</td>\n",
              "      <td>pos</td>\n",
              "    </tr>\n",
              "    <tr>\n",
              "      <th>1</th>\n",
              "      <td>http://video.google.com/videoplay?docid=211772...</td>\n",
              "      <td>pos</td>\n",
              "    </tr>\n",
              "    <tr>\n",
              "      <th>2</th>\n",
              "      <td>Title: Opera (1987) Director: Dario Argento Ca...</td>\n",
              "      <td>pos</td>\n",
              "    </tr>\n",
              "    <tr>\n",
              "      <th>3</th>\n",
              "      <td>I think a lot of people just wrote this off as...</td>\n",
              "      <td>pos</td>\n",
              "    </tr>\n",
              "    <tr>\n",
              "      <th>4</th>\n",
              "      <td>This is a story of two dogs and a cat looking ...</td>\n",
              "      <td>pos</td>\n",
              "    </tr>\n",
              "  </tbody>\n",
              "</table>\n",
              "</div>"
            ],
            "text/plain": [
              "                                              review label\n",
              "0  mature intelligent and highly charged melodram...   pos\n",
              "1  http://video.google.com/videoplay?docid=211772...   pos\n",
              "2  Title: Opera (1987) Director: Dario Argento Ca...   pos\n",
              "3  I think a lot of people just wrote this off as...   pos\n",
              "4  This is a story of two dogs and a cat looking ...   pos"
            ]
          },
          "metadata": {
            "tags": []
          },
          "execution_count": 7
        }
      ]
    },
    {
      "cell_type": "code",
      "metadata": {
        "id": "CpwvIBJPX3vg",
        "outputId": "f65d3753-8671-4081-bb5d-e2b07abe4d06",
        "colab": {
          "base_uri": "https://localhost:8080/"
        }
      },
      "source": [
        "# The dataset is a balanced dataset\n",
        "dataset['label'].value_counts()"
      ],
      "execution_count": 8,
      "outputs": [
        {
          "output_type": "execute_result",
          "data": {
            "text/plain": [
              "pos    20011\n",
              "neg    19989\n",
              "Name: label, dtype: int64"
            ]
          },
          "metadata": {
            "tags": []
          },
          "execution_count": 8
        }
      ]
    },
    {
      "cell_type": "code",
      "metadata": {
        "id": "GzzwxBNrYGs8"
      },
      "source": [
        "from sklearn.preprocessing import LabelEncoder\n",
        "le = LabelEncoder()"
      ],
      "execution_count": 9,
      "outputs": []
    },
    {
      "cell_type": "code",
      "metadata": {
        "id": "v4XkSoWtYVQ-"
      },
      "source": [
        "y = dataset['label'].values"
      ],
      "execution_count": 10,
      "outputs": []
    },
    {
      "cell_type": "code",
      "metadata": {
        "id": "jpTXiC7BYYzN"
      },
      "source": [
        "y = le.fit_transform(y)"
      ],
      "execution_count": 11,
      "outputs": []
    },
    {
      "cell_type": "code",
      "metadata": {
        "id": "V5ReAW2_Yb5Q",
        "outputId": "5f221c89-d172-4118-8a05-31be0e6d9572",
        "colab": {
          "base_uri": "https://localhost:8080/"
        }
      },
      "source": [
        "np.unique(y, return_counts=True)"
      ],
      "execution_count": 12,
      "outputs": [
        {
          "output_type": "execute_result",
          "data": {
            "text/plain": [
              "(array([0, 1]), array([19989, 20011]))"
            ]
          },
          "metadata": {
            "tags": []
          },
          "execution_count": 12
        }
      ]
    },
    {
      "cell_type": "code",
      "metadata": {
        "id": "i890i-KEYgEH",
        "outputId": "6108fec6-c9ad-418f-ea1b-1b35fe2b2f2d",
        "colab": {
          "base_uri": "https://localhost:8080/",
          "height": 90
        }
      },
      "source": [
        "dataset['review'][1]"
      ],
      "execution_count": 13,
      "outputs": [
        {
          "output_type": "execute_result",
          "data": {
            "application/vnd.google.colaboratory.intrinsic+json": {
              "type": "string"
            },
            "text/plain": [
              "'http://video.google.com/videoplay?docid=211772166650071408&hl=en Distribution was tried.<br /><br />We opted for mass appeal.<br /><br />We want the best possible viewing range so, we forgo profit and continue our manual labor jobs gladly to entertain you for working yours.<br /><br />View Texas tale, please write about it... If you like it or not, if you like Alex or not, if you like Stuie, Texas or Texas tale... Just write about it.<br /><br />Your opinion rules.'"
            ]
          },
          "metadata": {
            "tags": []
          },
          "execution_count": 13
        }
      ]
    },
    {
      "cell_type": "markdown",
      "metadata": {
        "id": "Dk1RGUa9Yq3u"
      },
      "source": [
        "# Preprocessing the data"
      ]
    },
    {
      "cell_type": "code",
      "metadata": {
        "id": "__2Dpt9eYjs2",
        "outputId": "cc454280-3767-4f96-8a46-4d22806ca124",
        "colab": {
          "base_uri": "https://localhost:8080/"
        }
      },
      "source": [
        "import nltk\n",
        "nltk.download('stopwords')"
      ],
      "execution_count": 14,
      "outputs": [
        {
          "output_type": "stream",
          "text": [
            "[nltk_data] Downloading package stopwords to /root/nltk_data...\n",
            "[nltk_data]   Unzipping corpora/stopwords.zip.\n"
          ],
          "name": "stdout"
        },
        {
          "output_type": "execute_result",
          "data": {
            "text/plain": [
              "True"
            ]
          },
          "metadata": {
            "tags": []
          },
          "execution_count": 14
        }
      ]
    },
    {
      "cell_type": "code",
      "metadata": {
        "id": "1MJskZ3FY0kz"
      },
      "source": [
        "from nltk.corpus import stopwords"
      ],
      "execution_count": 15,
      "outputs": []
    },
    {
      "cell_type": "code",
      "metadata": {
        "id": "7y8pBytfY35H"
      },
      "source": [
        "sw = set(stopwords.words('english'))"
      ],
      "execution_count": 16,
      "outputs": []
    },
    {
      "cell_type": "code",
      "metadata": {
        "id": "ONQt9h6nY7yA",
        "outputId": "e08451f1-c58f-45a8-cecc-f39b8392250e",
        "colab": {
          "base_uri": "https://localhost:8080/"
        }
      },
      "source": [
        "len(sw)"
      ],
      "execution_count": 17,
      "outputs": [
        {
          "output_type": "execute_result",
          "data": {
            "text/plain": [
              "179"
            ]
          },
          "metadata": {
            "tags": []
          },
          "execution_count": 17
        }
      ]
    },
    {
      "cell_type": "code",
      "metadata": {
        "id": "OnrwgnYkY8Rs"
      },
      "source": [
        "## For stemming\n",
        "from nltk.stem import PorterStemmer\n",
        "ps = PorterStemmer()"
      ],
      "execution_count": 18,
      "outputs": []
    },
    {
      "cell_type": "code",
      "metadata": {
        "id": "a8o3ATq1ZLUy"
      },
      "source": [
        "# for regular Expression\n",
        "import re"
      ],
      "execution_count": 19,
      "outputs": []
    },
    {
      "cell_type": "code",
      "metadata": {
        "id": "HcHEGrkpZE0j"
      },
      "source": [
        "def cleanText(sample):\n",
        "\n",
        "    sample = sample.lower()\n",
        "    sample = sample.replace(\"<br /><br />\", \"\")\n",
        "\n",
        "    # if the pattern is not fulfilled (^)\n",
        "    # then it will be replaced by a space\n",
        "    sample = re.sub(\"[^a-zA-Z]+\", \" \", sample)\n",
        "\n",
        "    # Stopword removal + stemming \n",
        "\n",
        "    sample = sample.split()\n",
        "\n",
        "    sample = [ps.stem(s) for s in sample if s not in sw]\n",
        "\n",
        "    # joining the sentence\n",
        "    sample = ' '.join(sample)\n",
        "\n",
        "    return sample\n"
      ],
      "execution_count": 20,
      "outputs": []
    },
    {
      "cell_type": "code",
      "metadata": {
        "id": "lnVnu8ynaJFW",
        "outputId": "fb96efb4-7502-4a99-b790-becb622f991c",
        "colab": {
          "base_uri": "https://localhost:8080/",
          "height": 108
        }
      },
      "source": [
        "dataset['review'][11]"
      ],
      "execution_count": 21,
      "outputs": [
        {
          "output_type": "execute_result",
          "data": {
            "application/vnd.google.colaboratory.intrinsic+json": {
              "type": "string"
            },
            "text/plain": [
              "'Robert Jordan is a television star. Robert Jordan likes things orderly, on time and properly executed. In his world children are to be seen, not heard. So why would Mr. Jordan want to become the master of a rambunctious band of Boy Scouts? Ratings. His staff figures that if learns how to interact with the youth, they will be more inclined to watch his show. Of course watching Jordan cope comprises most of the fun.<br /><br />Like Mr. Belvedere and Mr. Belvedere Goes to College this one is sure to please.<br /><br />ANYONE INTERESTED IN OBTAINING A COPY OF THIS FILM PLEASE WRITE TO ME AT: IAMASEAL2@YAHOO.COM'"
            ]
          },
          "metadata": {
            "tags": []
          },
          "execution_count": 21
        }
      ]
    },
    {
      "cell_type": "code",
      "metadata": {
        "id": "8KqE_GnxaCTZ",
        "outputId": "ee87ec78-6367-4bd6-8516-501a6e44a923",
        "colab": {
          "base_uri": "https://localhost:8080/",
          "height": 71
        }
      },
      "source": [
        "cleanText(dataset['review'][11])"
      ],
      "execution_count": 22,
      "outputs": [
        {
          "output_type": "execute_result",
          "data": {
            "application/vnd.google.colaboratory.intrinsic+json": {
              "type": "string"
            },
            "text/plain": [
              "'robert jordan televis star robert jordan like thing orderli time properli execut world children seen heard would mr jordan want becom master rambuncti band boy scout rate staff figur learn interact youth inclin watch show cours watch jordan cope compris fun like mr belveder mr belveder goe colleg one sure pleas anyon interest obtain copi film pleas write iamas yahoo com'"
            ]
          },
          "metadata": {
            "tags": []
          },
          "execution_count": 22
        }
      ]
    },
    {
      "cell_type": "code",
      "metadata": {
        "id": "yDOpQo9daICF"
      },
      "source": [
        "# It will apply the function to all the reviews !!\n",
        "dataset['cleaned_review'] = dataset['review'].apply(cleanText)"
      ],
      "execution_count": 23,
      "outputs": []
    },
    {
      "cell_type": "code",
      "metadata": {
        "id": "r2npCtXTbfUj",
        "outputId": "9cbb9165-841f-4a9d-fa3f-ecbaa3bd5781",
        "colab": {
          "base_uri": "https://localhost:8080/",
          "height": 417
        }
      },
      "source": [
        "dataset"
      ],
      "execution_count": 24,
      "outputs": [
        {
          "output_type": "execute_result",
          "data": {
            "text/html": [
              "<div>\n",
              "<style scoped>\n",
              "    .dataframe tbody tr th:only-of-type {\n",
              "        vertical-align: middle;\n",
              "    }\n",
              "\n",
              "    .dataframe tbody tr th {\n",
              "        vertical-align: top;\n",
              "    }\n",
              "\n",
              "    .dataframe thead th {\n",
              "        text-align: right;\n",
              "    }\n",
              "</style>\n",
              "<table border=\"1\" class=\"dataframe\">\n",
              "  <thead>\n",
              "    <tr style=\"text-align: right;\">\n",
              "      <th></th>\n",
              "      <th>review</th>\n",
              "      <th>label</th>\n",
              "      <th>cleaned_review</th>\n",
              "    </tr>\n",
              "  </thead>\n",
              "  <tbody>\n",
              "    <tr>\n",
              "      <th>0</th>\n",
              "      <td>mature intelligent and highly charged melodram...</td>\n",
              "      <td>pos</td>\n",
              "      <td>matur intellig highli charg melodrama unbelive...</td>\n",
              "    </tr>\n",
              "    <tr>\n",
              "      <th>1</th>\n",
              "      <td>http://video.google.com/videoplay?docid=211772...</td>\n",
              "      <td>pos</td>\n",
              "      <td>http video googl com videoplay docid hl en dis...</td>\n",
              "    </tr>\n",
              "    <tr>\n",
              "      <th>2</th>\n",
              "      <td>Title: Opera (1987) Director: Dario Argento Ca...</td>\n",
              "      <td>pos</td>\n",
              "      <td>titl opera director dario argento cast cristin...</td>\n",
              "    </tr>\n",
              "    <tr>\n",
              "      <th>3</th>\n",
              "      <td>I think a lot of people just wrote this off as...</td>\n",
              "      <td>pos</td>\n",
              "      <td>think lot peopl wrote anoth one tom cruis weir...</td>\n",
              "    </tr>\n",
              "    <tr>\n",
              "      <th>4</th>\n",
              "      <td>This is a story of two dogs and a cat looking ...</td>\n",
              "      <td>pos</td>\n",
              "      <td>stori two dog cat look way back home old wise ...</td>\n",
              "    </tr>\n",
              "    <tr>\n",
              "      <th>...</th>\n",
              "      <td>...</td>\n",
              "      <td>...</td>\n",
              "      <td>...</td>\n",
              "    </tr>\n",
              "    <tr>\n",
              "      <th>39995</th>\n",
              "      <td>There are similarities between Ray Lawrence's ...</td>\n",
              "      <td>neg</td>\n",
              "      <td>similar ray lawrenc jindabyn last movi lantana...</td>\n",
              "    </tr>\n",
              "    <tr>\n",
              "      <th>39996</th>\n",
              "      <td>For starters, I once met the director when he ...</td>\n",
              "      <td>neg</td>\n",
              "      <td>starter met director go ww enact period movi c...</td>\n",
              "    </tr>\n",
              "    <tr>\n",
              "      <th>39997</th>\n",
              "      <td>Much of \"Over Her Dead Body\" is so painfully u...</td>\n",
              "      <td>neg</td>\n",
              "      <td>much dead bodi pain unfunni actual squirm seat...</td>\n",
              "    </tr>\n",
              "    <tr>\n",
              "      <th>39998</th>\n",
              "      <td>\"Lifeforce\" is a truly bizarre adaptation of t...</td>\n",
              "      <td>pos</td>\n",
              "      <td>lifeforc truli bizarr adapt novel space vampir...</td>\n",
              "    </tr>\n",
              "    <tr>\n",
              "      <th>39999</th>\n",
              "      <td>I saw this movie at a screener and its the bes...</td>\n",
              "      <td>pos</td>\n",
              "      <td>saw movi screener best movi seen loooong time ...</td>\n",
              "    </tr>\n",
              "  </tbody>\n",
              "</table>\n",
              "<p>40000 rows × 3 columns</p>\n",
              "</div>"
            ],
            "text/plain": [
              "                                                  review  ...                                     cleaned_review\n",
              "0      mature intelligent and highly charged melodram...  ...  matur intellig highli charg melodrama unbelive...\n",
              "1      http://video.google.com/videoplay?docid=211772...  ...  http video googl com videoplay docid hl en dis...\n",
              "2      Title: Opera (1987) Director: Dario Argento Ca...  ...  titl opera director dario argento cast cristin...\n",
              "3      I think a lot of people just wrote this off as...  ...  think lot peopl wrote anoth one tom cruis weir...\n",
              "4      This is a story of two dogs and a cat looking ...  ...  stori two dog cat look way back home old wise ...\n",
              "...                                                  ...  ...                                                ...\n",
              "39995  There are similarities between Ray Lawrence's ...  ...  similar ray lawrenc jindabyn last movi lantana...\n",
              "39996  For starters, I once met the director when he ...  ...  starter met director go ww enact period movi c...\n",
              "39997  Much of \"Over Her Dead Body\" is so painfully u...  ...  much dead bodi pain unfunni actual squirm seat...\n",
              "39998  \"Lifeforce\" is a truly bizarre adaptation of t...  ...  lifeforc truli bizarr adapt novel space vampir...\n",
              "39999  I saw this movie at a screener and its the bes...  ...  saw movi screener best movi seen loooong time ...\n",
              "\n",
              "[40000 rows x 3 columns]"
            ]
          },
          "metadata": {
            "tags": []
          },
          "execution_count": 24
        }
      ]
    },
    {
      "cell_type": "code",
      "metadata": {
        "id": "qjjcL_YfcUGi"
      },
      "source": [
        "corpus = dataset['cleaned_review'].values"
      ],
      "execution_count": 25,
      "outputs": []
    },
    {
      "cell_type": "code",
      "metadata": {
        "id": "oLNZ2O5Jccaj"
      },
      "source": [
        "from sklearn.feature_extraction.text import CountVectorizer, TfidfTransformer , TfidfVectorizer"
      ],
      "execution_count": 26,
      "outputs": []
    },
    {
      "cell_type": "code",
      "metadata": {
        "id": "z7Dccj5Vcr4w"
      },
      "source": [
        "# Discarding words with freq > 0.5\n",
        "cv = CountVectorizer(max_df= 0.5, max_features=50000)"
      ],
      "execution_count": 27,
      "outputs": []
    },
    {
      "cell_type": "code",
      "metadata": {
        "id": "9K4dEhKZcuqM"
      },
      "source": [
        "X = cv.fit_transform(corpus)"
      ],
      "execution_count": 28,
      "outputs": []
    },
    {
      "cell_type": "code",
      "metadata": {
        "id": "jQUtRF46cuth",
        "outputId": "7ab9f83c-5811-4be1-e665-7953545191a4",
        "colab": {
          "base_uri": "https://localhost:8080/"
        }
      },
      "source": [
        "X.shape"
      ],
      "execution_count": 29,
      "outputs": [
        {
          "output_type": "execute_result",
          "data": {
            "text/plain": [
              "(40000, 50000)"
            ]
          },
          "metadata": {
            "tags": []
          },
          "execution_count": 29
        }
      ]
    },
    {
      "cell_type": "code",
      "metadata": {
        "id": "cnod1kpHcu1O",
        "outputId": "85042167-39b2-4c5b-9df7-6f5c3541604a",
        "colab": {
          "base_uri": "https://localhost:8080/"
        }
      },
      "source": [
        "# X is a sparse Matrix\n",
        "X"
      ],
      "execution_count": 30,
      "outputs": [
        {
          "output_type": "execute_result",
          "data": {
            "text/plain": [
              "<40000x50000 sparse matrix of type '<class 'numpy.int64'>'\n",
              "\twith 3619721 stored elements in Compressed Sparse Row format>"
            ]
          },
          "metadata": {
            "tags": []
          },
          "execution_count": 30
        }
      ]
    },
    {
      "cell_type": "markdown",
      "metadata": {
        "id": "CB6l912udvm6"
      },
      "source": [
        "- If we try to convert this Sparse Matrix into numpy array\n",
        "- Then we will get Memory Error as this matrix is huge"
      ]
    },
    {
      "cell_type": "code",
      "metadata": {
        "id": "f9ka82pWdgAg",
        "outputId": "eb8233c1-6e1b-48c1-a0da-d9da981d016c",
        "colab": {
          "base_uri": "https://localhost:8080/"
        }
      },
      "source": [
        "print(X[0])"
      ],
      "execution_count": 31,
      "outputs": [
        {
          "output_type": "stream",
          "text": [
            "  (0, 26138)\t1\n",
            "  (0, 21816)\t1\n",
            "  (0, 20351)\t1\n",
            "  (0, 9499)\t1\n",
            "  (0, 26560)\t1\n",
            "  (0, 44629)\t1\n",
            "  (0, 9931)\t1\n",
            "  (0, 47634)\t2\n",
            "  (0, 39856)\t2\n",
            "  (0, 30823)\t1\n",
            "  (0, 9026)\t1\n",
            "  (0, 25039)\t1\n",
            "  (0, 43630)\t1\n",
            "  (0, 36910)\t1\n",
            "  (0, 35372)\t1\n",
            "  (0, 25474)\t1\n",
            "  (0, 41058)\t1\n"
          ],
          "name": "stdout"
        }
      ]
    },
    {
      "cell_type": "code",
      "metadata": {
        "id": "RHSoFMJhd00f"
      },
      "source": [
        "tfidf = TfidfTransformer()"
      ],
      "execution_count": 32,
      "outputs": []
    },
    {
      "cell_type": "code",
      "metadata": {
        "id": "IMWtkwIIeGIP"
      },
      "source": [
        "X = tfidf.fit_transform(X)"
      ],
      "execution_count": 33,
      "outputs": []
    },
    {
      "cell_type": "code",
      "metadata": {
        "id": "P18EvSD0eJKt",
        "outputId": "7e74f07d-d81d-41a9-8ba8-56058129d844",
        "colab": {
          "base_uri": "https://localhost:8080/"
        }
      },
      "source": [
        "X.shape"
      ],
      "execution_count": 34,
      "outputs": [
        {
          "output_type": "execute_result",
          "data": {
            "text/plain": [
              "(40000, 50000)"
            ]
          },
          "metadata": {
            "tags": []
          },
          "execution_count": 34
        }
      ]
    },
    {
      "cell_type": "code",
      "metadata": {
        "id": "pZGN9DdgeLSw",
        "outputId": "375af40c-d72c-489c-f24b-4495d6c8b919",
        "colab": {
          "base_uri": "https://localhost:8080/"
        }
      },
      "source": [
        "type(X[0])"
      ],
      "execution_count": 35,
      "outputs": [
        {
          "output_type": "execute_result",
          "data": {
            "text/plain": [
              "scipy.sparse.csr.csr_matrix"
            ]
          },
          "metadata": {
            "tags": []
          },
          "execution_count": 35
        }
      ]
    },
    {
      "cell_type": "code",
      "metadata": {
        "id": "SjNkmb4PeNzt",
        "outputId": "1a6101cc-fe43-4383-894b-0d0119e66144",
        "colab": {
          "base_uri": "https://localhost:8080/"
        }
      },
      "source": [
        "## Preprocessed Data\n",
        "print(X.shape)\n",
        "print(y.shape)"
      ],
      "execution_count": 36,
      "outputs": [
        {
          "output_type": "stream",
          "text": [
            "(40000, 50000)\n",
            "(40000,)\n"
          ],
          "name": "stdout"
        }
      ]
    },
    {
      "cell_type": "markdown",
      "metadata": {
        "id": "FExVJkGogGa2"
      },
      "source": [
        "## Neural Network"
      ]
    },
    {
      "cell_type": "code",
      "metadata": {
        "id": "ySHVs4Lcgv_e"
      },
      "source": [
        "# Training and Validation\n",
        "\n",
        "X_val = X[:5000]\n",
        "Y_val = y[:5000]\n",
        "\n",
        "X_train = X[5000:]\n",
        "Y_train = y[5000:]"
      ],
      "execution_count": 37,
      "outputs": []
    },
    {
      "cell_type": "code",
      "metadata": {
        "id": "hkZ06X3Ug9wl",
        "outputId": "ce42e591-3202-48e7-f46c-a6ebcd1a076e",
        "colab": {
          "base_uri": "https://localhost:8080/"
        }
      },
      "source": [
        "print(X_train.shape, Y_train.shape)\n",
        "print(X_val.shape, Y_val.shape)"
      ],
      "execution_count": 38,
      "outputs": [
        {
          "output_type": "stream",
          "text": [
            "(35000, 50000) (35000,)\n",
            "(5000, 50000) (5000,)\n"
          ],
          "name": "stdout"
        }
      ]
    },
    {
      "cell_type": "code",
      "metadata": {
        "id": "s8BNAHSRhO6_"
      },
      "source": [
        "from keras.callbacks import ModelCheckpoint"
      ],
      "execution_count": 39,
      "outputs": []
    },
    {
      "cell_type": "code",
      "metadata": {
        "id": "E1wBBhm3kY9q"
      },
      "source": [
        "import keras\n",
        "class batch_generator(keras.utils.Sequence):\n",
        "  \n",
        "  def __init__(self,X,Y,batch_size):\n",
        "    self.X = X\n",
        "    self.Y = Y\n",
        "    self.batch_size = batch_size\n",
        "\n",
        "  \n",
        "  def __len__(self):\n",
        "    return (self.X.shape[0]// self.batch_size)\n",
        "  \n",
        "  def __getitem__(self,item):\n",
        "    x_ = self.X[self.batch_size*item : self.batch_size*(item + 1)].toarray()\n",
        "    y_ = self.Y[self.batch_size*item : self.batch_size*(item + 1)]\n",
        "    # .toarray()\n",
        "\n",
        "    return x_, y_\n"
      ],
      "execution_count": 40,
      "outputs": []
    },
    {
      "cell_type": "code",
      "metadata": {
        "id": "lVzVsMcAhYYD",
        "outputId": "42581a43-d3e0-4f0b-a149-b2ef55de274c",
        "colab": {
          "base_uri": "https://localhost:8080/"
        }
      },
      "source": [
        "train_generator = batch_generator(X_train,Y_train,batch_size=16)\n",
        "val_generator = batch_generator(X_val,Y_val,batch_size=16)\n",
        "\n",
        "from keras.models import Sequential\n",
        "from keras.layers import Dense\n",
        "\n",
        "model = Sequential()\n",
        "\n",
        "model.add( Dense(16, activation='relu', input_shape=( X.shape[1], )))\n",
        "model.add( Dense(16, activation='relu'))\n",
        "\n",
        "model.add(Dense(1, activation='sigmoid'))\n",
        "model.summary()\n",
        "\n",
        "\n",
        "model.compile(\n",
        "    optimizer='rmsprop',\n",
        "    loss=\"binary_crossentropy\",\n",
        "    metrics=['acc']\n",
        ")\n",
        "\n",
        "checkpoint = ModelCheckpoint(\"best_model.h5\", monitor='val_acc', save_best_only=True)\n",
        "hist = model.fit(train_generator, batch_size=256, epochs=20, validation_data=val_generator, callbacks=[checkpoint])"
      ],
      "execution_count": 41,
      "outputs": [
        {
          "output_type": "stream",
          "text": [
            "Model: \"sequential\"\n",
            "_________________________________________________________________\n",
            "Layer (type)                 Output Shape              Param #   \n",
            "=================================================================\n",
            "dense (Dense)                (None, 16)                800016    \n",
            "_________________________________________________________________\n",
            "dense_1 (Dense)              (None, 16)                272       \n",
            "_________________________________________________________________\n",
            "dense_2 (Dense)              (None, 1)                 17        \n",
            "=================================================================\n",
            "Total params: 800,305\n",
            "Trainable params: 800,305\n",
            "Non-trainable params: 0\n",
            "_________________________________________________________________\n",
            "Epoch 1/20\n",
            "2187/2187 [==============================] - 11s 5ms/step - loss: 0.3264 - acc: 0.8759 - val_loss: 0.2582 - val_acc: 0.8918\n",
            "Epoch 2/20\n",
            "2187/2187 [==============================] - 11s 5ms/step - loss: 0.2164 - acc: 0.9135 - val_loss: 0.2658 - val_acc: 0.8902\n",
            "Epoch 3/20\n",
            "2187/2187 [==============================] - 10s 5ms/step - loss: 0.1978 - acc: 0.9222 - val_loss: 0.2756 - val_acc: 0.8888\n",
            "Epoch 4/20\n",
            "2187/2187 [==============================] - 10s 5ms/step - loss: 0.1878 - acc: 0.9275 - val_loss: 0.2702 - val_acc: 0.8904\n",
            "Epoch 5/20\n",
            "2187/2187 [==============================] - 10s 5ms/step - loss: 0.1811 - acc: 0.9299 - val_loss: 0.2711 - val_acc: 0.8908\n",
            "Epoch 6/20\n",
            "2187/2187 [==============================] - 11s 5ms/step - loss: 0.1752 - acc: 0.9325 - val_loss: 0.2783 - val_acc: 0.8904\n",
            "Epoch 7/20\n",
            "2187/2187 [==============================] - 11s 5ms/step - loss: 0.1710 - acc: 0.9345 - val_loss: 0.2786 - val_acc: 0.8908\n",
            "Epoch 8/20\n",
            "2187/2187 [==============================] - 10s 5ms/step - loss: 0.1665 - acc: 0.9375 - val_loss: 0.2813 - val_acc: 0.8918\n",
            "Epoch 9/20\n",
            "2187/2187 [==============================] - 10s 5ms/step - loss: 0.1623 - acc: 0.9392 - val_loss: 0.2767 - val_acc: 0.8916\n",
            "Epoch 10/20\n",
            "2187/2187 [==============================] - 11s 5ms/step - loss: 0.1582 - acc: 0.9414 - val_loss: 0.2887 - val_acc: 0.8906\n",
            "Epoch 11/20\n",
            "2187/2187 [==============================] - 11s 5ms/step - loss: 0.1538 - acc: 0.9445 - val_loss: 0.2982 - val_acc: 0.8858\n",
            "Epoch 12/20\n",
            "2187/2187 [==============================] - 11s 5ms/step - loss: 0.1490 - acc: 0.9476 - val_loss: 0.2924 - val_acc: 0.8884\n",
            "Epoch 13/20\n",
            "2187/2187 [==============================] - 11s 5ms/step - loss: 0.1441 - acc: 0.9503 - val_loss: 0.2989 - val_acc: 0.8880\n",
            "Epoch 14/20\n",
            "2187/2187 [==============================] - 11s 5ms/step - loss: 0.1385 - acc: 0.9531 - val_loss: 0.3031 - val_acc: 0.8872\n",
            "Epoch 15/20\n",
            "2187/2187 [==============================] - 11s 5ms/step - loss: 0.1339 - acc: 0.9553 - val_loss: 0.3250 - val_acc: 0.8860\n",
            "Epoch 16/20\n",
            "2187/2187 [==============================] - 11s 5ms/step - loss: 0.1293 - acc: 0.9587 - val_loss: 0.3180 - val_acc: 0.8900\n",
            "Epoch 17/20\n",
            "2187/2187 [==============================] - 11s 5ms/step - loss: 0.1247 - acc: 0.9594 - val_loss: 0.3286 - val_acc: 0.8864\n",
            "Epoch 18/20\n",
            "2187/2187 [==============================] - 11s 5ms/step - loss: 0.1204 - acc: 0.9615 - val_loss: 0.3255 - val_acc: 0.8890\n",
            "Epoch 19/20\n",
            "2187/2187 [==============================] - 11s 5ms/step - loss: 0.1168 - acc: 0.9628 - val_loss: 0.3308 - val_acc: 0.8890\n",
            "Epoch 20/20\n",
            "2187/2187 [==============================] - 11s 5ms/step - loss: 0.1130 - acc: 0.9647 - val_loss: 0.3462 - val_acc: 0.8870\n"
          ],
          "name": "stdout"
        }
      ]
    },
    {
      "cell_type": "markdown",
      "metadata": {
        "id": "YDZjAAnv0aMY"
      },
      "source": [
        "## Testing "
      ]
    },
    {
      "cell_type": "code",
      "metadata": {
        "id": "i_ARLV8fhslU",
        "outputId": "a7869117-7b83-4b6d-8dc1-050547491dbf",
        "colab": {
          "base_uri": "https://localhost:8080/",
          "height": 203
        }
      },
      "source": [
        "test = pd.read_csv(\"Test.csv\")\n",
        "\n",
        "test.head()"
      ],
      "execution_count": 42,
      "outputs": [
        {
          "output_type": "execute_result",
          "data": {
            "text/html": [
              "<div>\n",
              "<style scoped>\n",
              "    .dataframe tbody tr th:only-of-type {\n",
              "        vertical-align: middle;\n",
              "    }\n",
              "\n",
              "    .dataframe tbody tr th {\n",
              "        vertical-align: top;\n",
              "    }\n",
              "\n",
              "    .dataframe thead th {\n",
              "        text-align: right;\n",
              "    }\n",
              "</style>\n",
              "<table border=\"1\" class=\"dataframe\">\n",
              "  <thead>\n",
              "    <tr style=\"text-align: right;\">\n",
              "      <th></th>\n",
              "      <th>review</th>\n",
              "    </tr>\n",
              "  </thead>\n",
              "  <tbody>\n",
              "    <tr>\n",
              "      <th>0</th>\n",
              "      <td>Remember those old kung fu movies we used to w...</td>\n",
              "    </tr>\n",
              "    <tr>\n",
              "      <th>1</th>\n",
              "      <td>This movie is another one on my List of Movies...</td>\n",
              "    </tr>\n",
              "    <tr>\n",
              "      <th>2</th>\n",
              "      <td>How in the world does a thing like this get in...</td>\n",
              "    </tr>\n",
              "    <tr>\n",
              "      <th>3</th>\n",
              "      <td>\"Queen of the Damned\" is one of the best vampi...</td>\n",
              "    </tr>\n",
              "    <tr>\n",
              "      <th>4</th>\n",
              "      <td>The Caprica episode (S01E01) is well done as a...</td>\n",
              "    </tr>\n",
              "  </tbody>\n",
              "</table>\n",
              "</div>"
            ],
            "text/plain": [
              "                                              review\n",
              "0  Remember those old kung fu movies we used to w...\n",
              "1  This movie is another one on my List of Movies...\n",
              "2  How in the world does a thing like this get in...\n",
              "3  \"Queen of the Damned\" is one of the best vampi...\n",
              "4  The Caprica episode (S01E01) is well done as a..."
            ]
          },
          "metadata": {
            "tags": []
          },
          "execution_count": 42
        }
      ]
    },
    {
      "cell_type": "code",
      "metadata": {
        "id": "iumXTKap0sBj"
      },
      "source": [
        "# It will apply the function to all the reviews !!\n",
        "test['cleaned_review'] = test['review'].apply(cleanText)"
      ],
      "execution_count": 45,
      "outputs": []
    },
    {
      "cell_type": "code",
      "metadata": {
        "id": "xF4agtw_0cW1"
      },
      "source": [
        "X_test = test[\"cleaned_review\"].values"
      ],
      "execution_count": 46,
      "outputs": []
    },
    {
      "cell_type": "code",
      "metadata": {
        "id": "606gGNvj0kWe",
        "outputId": "4218acdc-d50e-4e3f-b85b-f73fa8bd8e50",
        "colab": {
          "base_uri": "https://localhost:8080/"
        }
      },
      "source": [
        "print(X_test.shape)"
      ],
      "execution_count": 47,
      "outputs": [
        {
          "output_type": "stream",
          "text": [
            "(10000,)\n"
          ],
          "name": "stdout"
        }
      ]
    },
    {
      "cell_type": "code",
      "metadata": {
        "id": "lvqdNRZs0mtw"
      },
      "source": [
        "# Vectorizing\n",
        "X_test = cv.transform(X_test)"
      ],
      "execution_count": 48,
      "outputs": []
    },
    {
      "cell_type": "code",
      "metadata": {
        "id": "15KwfCK808sH",
        "outputId": "6658123f-addb-43ca-b9c5-577699c76759",
        "colab": {
          "base_uri": "https://localhost:8080/"
        }
      },
      "source": [
        "print(X_test.shape)"
      ],
      "execution_count": 49,
      "outputs": [
        {
          "output_type": "stream",
          "text": [
            "(10000, 50000)\n"
          ],
          "name": "stdout"
        }
      ]
    },
    {
      "cell_type": "code",
      "metadata": {
        "id": "3fwZUC9-0-wW"
      },
      "source": [
        "# tfidf Normalization\n",
        "X_test = tfidf.transform(X_test)"
      ],
      "execution_count": 50,
      "outputs": []
    },
    {
      "cell_type": "code",
      "metadata": {
        "id": "ZZoXlVCQ1JLz"
      },
      "source": [
        "model.load_weights(\"best_model.h5\")"
      ],
      "execution_count": 51,
      "outputs": []
    },
    {
      "cell_type": "code",
      "metadata": {
        "id": "OgVgdIVR1WH1"
      },
      "source": [
        "\n",
        "class test_generator(keras.utils.Sequence):\n",
        "  \n",
        "  def __init__(self,X,batch_size):\n",
        "    self.X = X\n",
        "    self.batch_size = batch_size\n",
        "\n",
        "  \n",
        "  def __len__(self):\n",
        "    return (self.X.shape[0]// self.batch_size)\n",
        "  \n",
        "  def __getitem__(self,item):\n",
        "    x_ = self.X[self.batch_size*item : self.batch_size*(item + 1)].toarray()\n",
        "\n",
        "    return x_\n"
      ],
      "execution_count": 53,
      "outputs": []
    },
    {
      "cell_type": "code",
      "metadata": {
        "id": "m3jQCh841esD"
      },
      "source": [
        "test_gen = test_generator(X_test, batch_size=16)"
      ],
      "execution_count": 59,
      "outputs": []
    },
    {
      "cell_type": "code",
      "metadata": {
        "id": "KRcoUCWl1v8R"
      },
      "source": [
        "pred = model.predict_classes(test_gen)"
      ],
      "execution_count": 60,
      "outputs": []
    },
    {
      "cell_type": "code",
      "metadata": {
        "id": "RMObSf1d1z0J",
        "outputId": "a428ff6b-792b-46d8-f23f-475f376022b9",
        "colab": {
          "base_uri": "https://localhost:8080/"
        }
      },
      "source": [
        "pred.shape"
      ],
      "execution_count": 61,
      "outputs": [
        {
          "output_type": "execute_result",
          "data": {
            "text/plain": [
              "(10000, 1)"
            ]
          },
          "metadata": {
            "tags": []
          },
          "execution_count": 61
        }
      ]
    },
    {
      "cell_type": "code",
      "metadata": {
        "id": "FVVs-8Sr16L-"
      },
      "source": [
        "df = pd.read_csv(\"Sample_submission.csv\")"
      ],
      "execution_count": 62,
      "outputs": []
    },
    {
      "cell_type": "code",
      "metadata": {
        "id": "2xC9_I9L2Jf-",
        "outputId": "920cd039-4c36-4dff-ea38-f69477792983",
        "colab": {
          "base_uri": "https://localhost:8080/",
          "height": 203
        }
      },
      "source": [
        "df.head()"
      ],
      "execution_count": 63,
      "outputs": [
        {
          "output_type": "execute_result",
          "data": {
            "text/html": [
              "<div>\n",
              "<style scoped>\n",
              "    .dataframe tbody tr th:only-of-type {\n",
              "        vertical-align: middle;\n",
              "    }\n",
              "\n",
              "    .dataframe tbody tr th {\n",
              "        vertical-align: top;\n",
              "    }\n",
              "\n",
              "    .dataframe thead th {\n",
              "        text-align: right;\n",
              "    }\n",
              "</style>\n",
              "<table border=\"1\" class=\"dataframe\">\n",
              "  <thead>\n",
              "    <tr style=\"text-align: right;\">\n",
              "      <th></th>\n",
              "      <th>Id</th>\n",
              "      <th>label</th>\n",
              "    </tr>\n",
              "  </thead>\n",
              "  <tbody>\n",
              "    <tr>\n",
              "      <th>0</th>\n",
              "      <td>0</td>\n",
              "      <td>pos</td>\n",
              "    </tr>\n",
              "    <tr>\n",
              "      <th>1</th>\n",
              "      <td>1</td>\n",
              "      <td>pos</td>\n",
              "    </tr>\n",
              "    <tr>\n",
              "      <th>2</th>\n",
              "      <td>2</td>\n",
              "      <td>pos</td>\n",
              "    </tr>\n",
              "    <tr>\n",
              "      <th>3</th>\n",
              "      <td>3</td>\n",
              "      <td>pos</td>\n",
              "    </tr>\n",
              "    <tr>\n",
              "      <th>4</th>\n",
              "      <td>4</td>\n",
              "      <td>pos</td>\n",
              "    </tr>\n",
              "  </tbody>\n",
              "</table>\n",
              "</div>"
            ],
            "text/plain": [
              "   Id label\n",
              "0   0   pos\n",
              "1   1   pos\n",
              "2   2   pos\n",
              "3   3   pos\n",
              "4   4   pos"
            ]
          },
          "metadata": {
            "tags": []
          },
          "execution_count": 63
        }
      ]
    },
    {
      "cell_type": "code",
      "metadata": {
        "id": "4Cgr4z6g2Kfy",
        "outputId": "978c754e-0399-4aaa-9243-b5b71eba93aa",
        "colab": {
          "base_uri": "https://localhost:8080/"
        }
      },
      "source": [
        "print(len(df))"
      ],
      "execution_count": 64,
      "outputs": [
        {
          "output_type": "stream",
          "text": [
            "10000\n"
          ],
          "name": "stdout"
        }
      ]
    },
    {
      "cell_type": "code",
      "metadata": {
        "id": "oSYNKY272LWj",
        "outputId": "f7432c07-a648-4992-9b57-a53442c6b71c",
        "colab": {
          "base_uri": "https://localhost:8080/"
        }
      },
      "source": [
        "pred_trans = le.inverse_transform(pred)"
      ],
      "execution_count": 65,
      "outputs": [
        {
          "output_type": "stream",
          "text": [
            "/usr/local/lib/python3.6/dist-packages/sklearn/preprocessing/_label.py:289: DataConversionWarning: A column-vector y was passed when a 1d array was expected. Please change the shape of y to (n_samples, ), for example using ravel().\n",
            "  y = column_or_1d(y, warn=True)\n"
          ],
          "name": "stderr"
        }
      ]
    },
    {
      "cell_type": "code",
      "metadata": {
        "id": "qf_yl33D2RF0",
        "outputId": "91a660e7-ba17-47e3-cfed-f82cbc965496",
        "colab": {
          "base_uri": "https://localhost:8080/"
        }
      },
      "source": [
        "pred_trans"
      ],
      "execution_count": 66,
      "outputs": [
        {
          "output_type": "execute_result",
          "data": {
            "text/plain": [
              "array(['neg', 'neg', 'neg', ..., 'pos', 'pos', 'neg'], dtype=object)"
            ]
          },
          "metadata": {
            "tags": []
          },
          "execution_count": 66
        }
      ]
    },
    {
      "cell_type": "code",
      "metadata": {
        "id": "QtTChZzA2Skd"
      },
      "source": [
        "df['label'] = pred_trans"
      ],
      "execution_count": 67,
      "outputs": []
    },
    {
      "cell_type": "code",
      "metadata": {
        "id": "gQx4mOeM2YZa"
      },
      "source": [
        "df.to_csv(\"Answer.csv\", index=False)"
      ],
      "execution_count": 70,
      "outputs": []
    },
    {
      "cell_type": "code",
      "metadata": {
        "id": "znUc8GTH2bcL",
        "outputId": "6c718b7e-54bb-4093-eee3-38166c6f5829",
        "colab": {
          "base_uri": "https://localhost:8080/",
          "height": 203
        }
      },
      "source": [
        "df.head()"
      ],
      "execution_count": 69,
      "outputs": [
        {
          "output_type": "execute_result",
          "data": {
            "text/html": [
              "<div>\n",
              "<style scoped>\n",
              "    .dataframe tbody tr th:only-of-type {\n",
              "        vertical-align: middle;\n",
              "    }\n",
              "\n",
              "    .dataframe tbody tr th {\n",
              "        vertical-align: top;\n",
              "    }\n",
              "\n",
              "    .dataframe thead th {\n",
              "        text-align: right;\n",
              "    }\n",
              "</style>\n",
              "<table border=\"1\" class=\"dataframe\">\n",
              "  <thead>\n",
              "    <tr style=\"text-align: right;\">\n",
              "      <th></th>\n",
              "      <th>Id</th>\n",
              "      <th>label</th>\n",
              "    </tr>\n",
              "  </thead>\n",
              "  <tbody>\n",
              "    <tr>\n",
              "      <th>0</th>\n",
              "      <td>0</td>\n",
              "      <td>neg</td>\n",
              "    </tr>\n",
              "    <tr>\n",
              "      <th>1</th>\n",
              "      <td>1</td>\n",
              "      <td>neg</td>\n",
              "    </tr>\n",
              "    <tr>\n",
              "      <th>2</th>\n",
              "      <td>2</td>\n",
              "      <td>neg</td>\n",
              "    </tr>\n",
              "    <tr>\n",
              "      <th>3</th>\n",
              "      <td>3</td>\n",
              "      <td>pos</td>\n",
              "    </tr>\n",
              "    <tr>\n",
              "      <th>4</th>\n",
              "      <td>4</td>\n",
              "      <td>pos</td>\n",
              "    </tr>\n",
              "  </tbody>\n",
              "</table>\n",
              "</div>"
            ],
            "text/plain": [
              "   Id label\n",
              "0   0   neg\n",
              "1   1   neg\n",
              "2   2   neg\n",
              "3   3   pos\n",
              "4   4   pos"
            ]
          },
          "metadata": {
            "tags": []
          },
          "execution_count": 69
        }
      ]
    },
    {
      "cell_type": "code",
      "metadata": {
        "id": "CYO7AjuZ2dCr"
      },
      "source": [
        ""
      ],
      "execution_count": null,
      "outputs": []
    }
  ]
}